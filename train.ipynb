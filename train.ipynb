{
  "nbformat": 4,
  "nbformat_minor": 0,
  "metadata": {
    "colab": {
      "provenance": [],
      "machine_shape": "hm",
      "authorship_tag": "ABX9TyPgO87tNJJ85rzMbWb7HtUD",
      "include_colab_link": true
    },
    "kernelspec": {
      "name": "python3",
      "display_name": "Python 3"
    },
    "language_info": {
      "name": "python"
    },
    "accelerator": "GPU",
    "gpuClass": "premium"
  },
  "cells": [
    {
      "cell_type": "markdown",
      "metadata": {
        "id": "view-in-github",
        "colab_type": "text"
      },
      "source": [
        "<a href=\"https://colab.research.google.com/github/EricLBuehler/english-transformer/blob/main/train.ipynb\" target=\"_parent\"><img src=\"https://colab.research.google.com/assets/colab-badge.svg\" alt=\"Open In Colab\"/></a>"
      ]
    },
    {
      "cell_type": "code",
      "source": [
        "#https://pytorch.org/tutorials/beginner/transformer_tutorial.html"
      ],
      "metadata": {
        "id": "BHZnXywjxGeq"
      },
      "execution_count": 1,
      "outputs": []
    },
    {
      "cell_type": "code",
      "execution_count": 23,
      "metadata": {
        "id": "kY_j8RUDP5y4"
      },
      "outputs": [],
      "source": [
        "from torch import nn, Tensor\n",
        "import torch.nn.functional as F\n",
        "import torch\n",
        "import math\n",
        "from torch.autograd.variable import Variable\n",
        "import typing\n",
        "import random\n",
        "import tqdm"
      ]
    },
    {
      "cell_type": "code",
      "source": [
        "import os\n",
        "from google.colab import drive\n",
        "drive.mount('/content/drive',force_remount=True)\n",
        "prefix='/content/drive/MyDrive/Colab Notebooks/english_transformer'\n",
        "prefix_='/content/drive/MyDrive/\"Colab Notebooks\"/english_transformer'\n",
        "modelname=\"4_14_23_m3\"\n",
        "\n",
        "prefix_models=prefix+\"/models/\"+modelname+\"/\"\n",
        "\n",
        "if not os.path.exists(prefix_models):\n",
        "    os.makedirs(prefix_models)\n",
        "            \n",
        "os.chdir(prefix)"
      ],
      "metadata": {
        "colab": {
          "base_uri": "https://localhost:8080/"
        },
        "id": "ph2WO5JpKukk",
        "outputId": "3d63d28c-8ccc-4e28-bcf5-5d4bf9349841"
      },
      "execution_count": 13,
      "outputs": [
        {
          "output_type": "stream",
          "name": "stdout",
          "text": [
            "Mounted at /content/drive\n"
          ]
        }
      ]
    },
    {
      "cell_type": "code",
      "source": [
        "class PositionalEncoding(nn.Module):\n",
        "    def __init__(self, d_model: int, dropout: float = 0.1, max_len: int = 5000):\n",
        "        super().__init__()\n",
        "        self.dropout = nn.Dropout(p=dropout)\n",
        "\n",
        "        position = torch.arange(max_len).unsqueeze(1)\n",
        "        div_term = torch.exp(torch.arange(0, d_model, 2) * (-math.log(10000.0) / d_model))\n",
        "        pe = torch.zeros(max_len, 1, d_model)\n",
        "        pe[:, 0, 0::2] = torch.sin(position * div_term)\n",
        "        pe[:, 0, 1::2] = torch.cos(position * div_term)\n",
        "        self.register_buffer('pe', pe)\n",
        "\n",
        "    def forward(self, x: Tensor) -> Tensor:\n",
        "        \"\"\"\n",
        "        Arguments:\n",
        "            x: Tensor, shape ``[seq_len, batch_size, embedding_dim]``\n",
        "        \"\"\"\n",
        "        x = x + self.pe[:x.size(0)]\n",
        "        return self.dropout(x)"
      ],
      "metadata": {
        "id": "xGOoJdNdRSaO"
      },
      "execution_count": 4,
      "outputs": []
    },
    {
      "cell_type": "code",
      "source": [
        "class ScaledDotProductAttention(nn.Module):\n",
        "    def forward(self, query, key, value, mask = None):\n",
        "        key_tp = key.transpose(-2, -1)\n",
        "\n",
        "        scores = query.matmul(key_tp) / math.sqrt(query.size()[-1])\n",
        "\n",
        "        if mask is not None:\n",
        "            scores = scores.masked_fill(mask == 0, float(\"-inf\"))\n",
        "            \n",
        "        attention = F.softmax(scores, dim = -1)\n",
        "\n",
        "        return attention.matmul(value)"
      ],
      "metadata": {
        "id": "XakHZ4HfFdYM"
      },
      "execution_count": 5,
      "outputs": []
    },
    {
      "cell_type": "code",
      "source": [
        "class MultiHeadAttention(nn.Module):\n",
        "    def __init__(self,\n",
        "                 in_features,\n",
        "                 head_num,\n",
        "                 bias=True,\n",
        "                 activation=F.relu):\n",
        "        super(MultiHeadAttention, self).__init__()\n",
        "        if in_features % head_num != 0:\n",
        "            raise ValueError('`in_features`({}) should be divisible by \\\n",
        "                `head_num`({})'.format(in_features, head_num))\n",
        "        self.in_features = in_features\n",
        "        self.head_num = head_num\n",
        "        self.activation = activation\n",
        "        self.bias = bias\n",
        "        self.linear_q = nn.Linear(in_features, in_features, bias)\n",
        "        self.linear_k = nn.Linear(in_features, in_features, bias)\n",
        "        self.linear_v = nn.Linear(in_features, in_features, bias)\n",
        "        self.linear_o = nn.Linear(in_features, in_features, bias)\n",
        "\n",
        "    def forward(self, q, k, v, mask=None):\n",
        "        q, k, v = self.linear_q(q), self.linear_k(k), self.linear_v(v)\n",
        "        if self.activation is not None:\n",
        "            q = self.activation(q)\n",
        "            k = self.activation(k)\n",
        "            v = self.activation(v)\n",
        "\n",
        "        q = self._reshape_to_batches(q)\n",
        "        k = self._reshape_to_batches(k)\n",
        "        v = self._reshape_to_batches(v)\n",
        "        \n",
        "        if mask is not None:\n",
        "            mask = mask.repeat(self.head_num, 1, 1)   \n",
        "        \n",
        "        y = ScaledDotProductAttention()(q, k, v, mask)        \n",
        "        \n",
        "        y = self._reshape_from_batches(y)      \n",
        "\n",
        "        y = self.linear_o(y)\n",
        "        if self.activation is not None:\n",
        "            y = self.activation(y)\n",
        "        return y\n",
        "\n",
        "    @staticmethod\n",
        "    def gen_causal_mask(x):\n",
        "        batch_size, seq_len, _ = x.size()\n",
        "        return torch.tril(torch.ones(seq_len, seq_len)).view(1, seq_len, seq_len).repeat(batch_size, 1, 1)\n",
        "\n",
        "    def _reshape_to_batches(self, x):\n",
        "        batch_size, seq_len, in_feature = x.size()\n",
        "        sub_dim = in_feature // self.head_num\n",
        "        return x.reshape(batch_size, seq_len, self.head_num, sub_dim)\\\n",
        "                .permute(0, 2, 1, 3)\\\n",
        "                .reshape(batch_size * self.head_num, seq_len, sub_dim)\n",
        "\n",
        "    def _reshape_from_batches(self, x):\n",
        "        batch_size, seq_len, in_feature = x.size()\n",
        "        batch_size //= self.head_num\n",
        "        out_dim = in_feature * self.head_num\n",
        "        return x.reshape(batch_size, self.head_num, seq_len, in_feature)\\\n",
        "                .permute(0, 2, 1, 3)\\\n",
        "                .reshape(batch_size, seq_len, out_dim)"
      ],
      "metadata": {
        "id": "G-sb6gd7L5bR"
      },
      "execution_count": 6,
      "outputs": []
    },
    {
      "cell_type": "code",
      "source": [
        "class Transformer(nn.Module):\n",
        "    def __init__(self, \n",
        "                 embedding_dim: int,\n",
        "                 n_self_heads: int,\n",
        "                 n_features: int,\n",
        "                 n_layers: int):\n",
        "        super().__init__()\n",
        "\n",
        "        #Embedding layer\n",
        "        self.embedding = nn.Embedding(n_features, embedding_dim)\n",
        "        #Positional encoding\n",
        "        self.pos_encode = PositionalEncoding(embedding_dim)\n",
        "\n",
        "        self.decoder_layers = []\n",
        "\n",
        "        for _ in range(n_layers):\n",
        "            layer = []\n",
        "            #Add multihead, which will be cross or self attention\n",
        "            layer.append(MultiHeadAttention(embedding_dim, n_self_heads)) #self attention first, masked\n",
        "            #Now add layer norm\n",
        "            layer.append(nn.LayerNorm(embedding_dim))\n",
        "            #Add a feed forward\n",
        "            layer.append(nn.Linear(embedding_dim, embedding_dim))\n",
        "            #Now add layer norm\n",
        "            layer.append(nn.LayerNorm(embedding_dim))\n",
        "\n",
        "            self.decoder_layers.append(layer)\n",
        "\n",
        "        self.out = nn.Linear(embedding_dim, 1)\n",
        "            \n",
        "    def forward(self, x: torch.Tensor) -> torch.Tensor:\n",
        "        \"\"\"\n",
        "        Expect tensor of [batch_size, n_features, embedding_dim]\n",
        "        \"\"\"\n",
        "        embed = self.embedding(x.long())\n",
        "        pos_encode = self.pos_encode(embed)\n",
        "\n",
        "        res = embed+pos_encode\n",
        "        \n",
        "        for decoder_layer in self.decoder_layers:\n",
        "            d_self_attention = decoder_layer[0]\n",
        "            d_layer_norm_1 = decoder_layer[1]\n",
        "            d_ff = decoder_layer[2]\n",
        "            d_layer_norm_2 = decoder_layer[3]\n",
        "            \n",
        "            ## Run the decoder\n",
        "            #do masked self attention\n",
        "            res = res + d_self_attention(res,res,res, mask = MultiHeadAttention.gen_causal_mask(res))\n",
        "            self_res = res\n",
        "            #layer norm\n",
        "            res = d_layer_norm_1(res)\n",
        "\n",
        "            #do ff\n",
        "            res = self_res + d_ff(res)\n",
        "            #layer norm\n",
        "            res = d_layer_norm_2(res)\n",
        "\n",
        "        return self.out(res).squeeze(-1)"
      ],
      "metadata": {
        "id": "NDpTASiaTxTX"
      },
      "execution_count": 7,
      "outputs": []
    },
    {
      "cell_type": "code",
      "source": [
        "def tokenize_multi(text_seq: str, features: int, encoding = \"utf8\") -> torch.Tensor:\n",
        "    # tokenize the input text\n",
        "    sentences = []\n",
        "    for sentence in filter(lambda x: x!=\"\", text_seq.split(\"\\n\")):\n",
        "        base = list(bytes(sentence, \"utf8\"))\n",
        "        if len(base) < features:\n",
        "            base.extend([0] * (features - len(base)))\n",
        "        tensor = torch.Tensor(base)\n",
        "        tensor = tensor.unsqueeze(0)\n",
        "        sentences.append(tensor)\n",
        "\n",
        "    return torch.cat(sentences, dim = 0)\n",
        "\n",
        "def tokenize_single(sentence: str, features: int, encoding = \"utf8\") -> torch.Tensor:\n",
        "    base = list(bytes(sentence, \"utf8\"))\n",
        "    if len(base) < features:\n",
        "        base.extend([0] * (features - len(base)))\n",
        "    tensor = torch.Tensor(base)\n",
        "    return tensor"
      ],
      "metadata": {
        "id": "HqGGEpvCLbP8"
      },
      "execution_count": 8,
      "outputs": []
    },
    {
      "cell_type": "code",
      "source": [
        "class TextDataset(torch.utils.data.Dataset):\n",
        "    def __init__(self, data: typing.List[str], features):\n",
        "        self.raw_data = data\n",
        "        self.features = features\n",
        "        \n",
        "    def __len__(self):\n",
        "        return len(self.raw_data)\n",
        "\n",
        "    def __getitem__(self,index):\n",
        "        idx = -1\n",
        "        if self.raw_data[index].rfind(\" \") != -1:\n",
        "            idx = self.raw_data[index].rfind(\" \")\n",
        "\n",
        "        return (tokenize_single(self.raw_data[index][:idx], self.features), tokenize_single(self.raw_data[index], self.features))"
      ],
      "metadata": {
        "id": "R81mAag8mHEG"
      },
      "execution_count": 25,
      "outputs": []
    },
    {
      "cell_type": "code",
      "source": [
        "n_features = 262 # I know this is the largest\n",
        "embedding_dim = 384\n",
        "train_split = 0.9\n",
        "batch_size = 64\n",
        "head_factor = 64\n",
        "assert embedding_dim%head_factor == 0\n",
        "head_size = embedding_dim//head_factor\n",
        "n_layers = 5"
      ],
      "metadata": {
        "id": "97rbDfS4gO8C"
      },
      "execution_count": 17,
      "outputs": []
    },
    {
      "cell_type": "code",
      "source": [
        "path_to_data = \"data/english.txt\"\n",
        "data_raw = open(path_to_data, encoding=\"utf-8\").read()\n",
        "\n",
        "data_split = list(filter(lambda x: x!=\"\", data_raw.split(\"\\n\")))\n",
        "random.shuffle(data_split)\n",
        "\n",
        "n = int(train_split * len(data_split))\n",
        "train_data = data_split[:n]\n",
        "val_data = data_split[n:]\n",
        "\n",
        "train_dataloader = TextDataset(train_data, n_features)\n",
        "test_dataloader = TextDataset(train_data, n_features)\n",
        "\n",
        "dataloader = torch.utils.data.DataLoader(train_dataloader, batch_size=batch_size)\n",
        "testloader = torch.utils.data.DataLoader(test_dataloader , batch_size=1)"
      ],
      "metadata": {
        "id": "IvvenMeUKfaj"
      },
      "execution_count": 26,
      "outputs": []
    },
    {
      "cell_type": "code",
      "source": [
        "model = Transformer(embedding_dim, head_size, n_features, n_layers)\n",
        "input = next(iter(testloader))[0]\n",
        "res = model(input)\n",
        "print(input.shape)\n",
        "print(res.shape)"
      ],
      "metadata": {
        "colab": {
          "base_uri": "https://localhost:8080/"
        },
        "id": "GvibftHanb0A",
        "outputId": "a162d249-e90c-4d9a-e19b-79290aa2b023"
      },
      "execution_count": 19,
      "outputs": [
        {
          "output_type": "stream",
          "name": "stdout",
          "text": [
            "torch.Size([262])\n",
            "torch.Size([262, 262])\n"
          ]
        }
      ]
    },
    {
      "cell_type": "code",
      "source": [
        "loss = nn.CrossEntropyLoss()\n",
        "lr = 1e-4  # learning rate\n",
        "optimizer = torch.optim.SGD(model.parameters(), lr=lr)\n",
        "scheduler = torch.optim.lr_scheduler.StepLR(optimizer, 1.0, gamma=0.95)"
      ],
      "metadata": {
        "id": "tZji9Va7-unn"
      },
      "execution_count": 20,
      "outputs": []
    },
    {
      "cell_type": "code",
      "source": [
        "n_epochs = 10"
      ],
      "metadata": {
        "id": "hUN0DJQo-vmf"
      },
      "execution_count": 21,
      "outputs": []
    },
    {
      "cell_type": "code",
      "source": [
        "model.train()\n",
        "\n",
        "epoch_losses = []\n",
        "for epoch in range(n_epochs):\n",
        "    batch_losses = []\n",
        "    for data, target in tqdm.tqdm(dataloader):\n",
        "        output = model(data)\n",
        "        \n",
        "        batch_losses.append(loss(output, target))\n",
        "\n",
        "        optimizer.step()\n",
        "        \n",
        "    epoch_losses.append(sum(batch_losses)/len(batch_losses))\n",
        "    print(f\"Epoch {epoch} completed with average loss: {epoch_losses[-1]}\")\n",
        "        "
      ],
      "metadata": {
        "colab": {
          "base_uri": "https://localhost:8080/"
        },
        "id": "o85FrKyF-wg-",
        "outputId": "45ec64db-726c-4141-cf52-939bf82508ae"
      },
      "execution_count": null,
      "outputs": [
        {
          "output_type": "stream",
          "name": "stderr",
          "text": [
            "  1%|          | 25/2179 [00:23<33:19,  1.08it/s]"
          ]
        }
      ]
    }
  ]
}